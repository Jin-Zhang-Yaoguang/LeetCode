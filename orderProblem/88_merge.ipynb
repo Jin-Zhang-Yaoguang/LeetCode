{
 "cells": [
  {
   "cell_type": "markdown",
   "metadata": {},
   "source": [
    "### 1 题目"
   ]
  },
  {
   "cell_type": "markdown",
   "metadata": {},
   "source": [
    "给你两个按 非递减顺序 排列的整数数组 nums1 和 nums2，另有两个整数 m 和 n ，分别表示 nums1 和 nums2 中的元素数目。\n",
    "\n",
    "请你 合并 nums2 到 nums1 中，使合并后的数组同样按 非递减顺序 排列。\n",
    "\n",
    "注意：最终，合并后数组不应由函数返回，而是存储在数组 nums1 中。为了应对这种情况，nums1 的初始长度为 m + n，其中前 m 个元素表示应合并的元素，后 n 个元素为 0 ，应忽略。nums2 的长度为 n 。\n",
    "\n",
    "\n",
    "示例 1：\n",
    "\n",
    "输入：nums1 = [1,2,3,0,0,0], m = 3, nums2 = [2,5,6], n = 3\n",
    "输出：[1,2,2,3,5,6]\n",
    "解释：需要合并 [1,2,3] 和 [2,5,6] 。\n",
    "合并结果是 [1,2,2,3,5,6] ，其中斜体加粗标注的为 nums1 中的元素。\n"
   ]
  },
  {
   "cell_type": "code",
   "execution_count": 66,
   "metadata": {},
   "outputs": [],
   "source": [
    "nums1 = [0]\n",
    "m = 0\n",
    "nums2 = [1]\n",
    "n = 1"
   ]
  },
  {
   "cell_type": "markdown",
   "metadata": {},
   "source": [
    "### 2 分析"
   ]
  },
  {
   "cell_type": "markdown",
   "metadata": {},
   "source": [
    "解题思路：逆向多指针\n",
    "- 使用三个指针：分别指向nums1的最后一个、nums2的最后一个、nums1中不为0的（m-1）\n",
    "- 按照归并排序思想逐步移入"
   ]
  },
  {
   "cell_type": "code",
   "execution_count": 67,
   "metadata": {},
   "outputs": [
    {
     "name": "stdout",
     "output_type": "stream",
     "text": [
      "2\n"
     ]
    }
   ],
   "source": [
    "nums1_pointer, nums2_pointer, current_pointer = m-1, n-1, m+n\n",
    "while current_pointer:\n",
    "    current_pointer -= 1\n",
    "    if nums2_pointer < 0:\n",
    "        print('11')\n",
    "        break\n",
    "    elif nums1_pointer < 0:\n",
    "        print('2')\n",
    "        nums1[:nums2_pointer+1] = nums2[:nums2_pointer+1]\n",
    "        break\n",
    "    elif nums1[nums1_pointer] > nums2[nums2_pointer]:\n",
    "        nums1[current_pointer] = nums1[nums1_pointer]\n",
    "        nums1_pointer -= 1\n",
    "        print(\"A\")\n",
    "        print(nums1)\n",
    "    elif nums1[nums1_pointer] <= nums2[nums2_pointer]:\n",
    "        nums1[current_pointer] = nums2[nums2_pointer]\n",
    "        nums2_pointer -= 1\n",
    "        print(\"b\")\n",
    "        print(nums1)\n"
   ]
  },
  {
   "cell_type": "markdown",
   "metadata": {},
   "source": [
    "### 3 提交内容"
   ]
  },
  {
   "cell_type": "code",
   "execution_count": null,
   "metadata": {},
   "outputs": [],
   "source": [
    "class Solution:\n",
    "    def merge(self, nums1: List[int], m: int, nums2: List[int], n: int) -> None:\n",
    "        \"\"\"\n",
    "        Do not return anything, modify nums1 in-place instead.\n",
    "        \"\"\"\n",
    "        nums1_pointer, nums2_pointer, current_pointer = m-1, n-1, m+n\n",
    "        while current_pointer:\n",
    "            current_pointer -= 1\n",
    "            if nums2_pointer < 0:\n",
    "                break\n",
    "            elif nums1_pointer < 0:\n",
    "                nums1[:nums2_pointer+1] = nums2[:nums2_pointer+1]\n",
    "                break\n",
    "            elif nums1[nums1_pointer] > nums2[nums2_pointer]:\n",
    "                nums1[current_pointer] = nums1[nums1_pointer]\n",
    "                nums1_pointer -= 1\n",
    "            elif nums1[nums1_pointer] <= nums2[nums2_pointer]:\n",
    "                nums1[current_pointer] = nums2[nums2_pointer]\n",
    "                nums2_pointer -= 1"
   ]
  },
  {
   "cell_type": "markdown",
   "metadata": {},
   "source": [
    "时间复杂度：$O(m+n)$。\n",
    "指针移动单调递减，最多移动 m+n 次，因此时间复杂度为 $O(m+n)$。\n",
    "\n",
    "空间复杂度：$O(1)$。"
   ]
  },
  {
   "cell_type": "code",
   "execution_count": null,
   "metadata": {},
   "outputs": [],
   "source": [
    "class Solution:\n",
    "    def merge(self, nums1: List[int], m: int, nums2: List[int], n: int) -> None:\n",
    "        \"\"\"\n",
    "        Do not return anything, modify nums1 in-place instead.\n",
    "        \"\"\"\n",
    "        nums1[m:] = nums2\n",
    "        nums1.sort()"
   ]
  },
  {
   "cell_type": "markdown",
   "metadata": {},
   "source": [
    "复杂度分析\n",
    "\n",
    "时间复杂度：$ O((m+n)\\log(m+n))$。\n",
    "排序序列长度为 m+n，套用快速排序的时间复杂度即可，平均情况为 $O((m+n)\\log(m+n))$。\n",
    "\n",
    "空间复杂度：$ O(\\log(m+n))$ 。\n",
    "排序序列长度为 m+n，套用快速排序的空间复杂度即可，平均情况为 $O(\\log(m+n))$。\n"
   ]
  },
  {
   "cell_type": "code",
   "execution_count": null,
   "metadata": {},
   "outputs": [],
   "source": []
  }
 ],
 "metadata": {
  "kernelspec": {
   "display_name": "Python 3",
   "language": "python",
   "name": "python3"
  },
  "language_info": {
   "codemirror_mode": {
    "name": "ipython",
    "version": 3
   },
   "file_extension": ".py",
   "mimetype": "text/x-python",
   "name": "python",
   "nbconvert_exporter": "python",
   "pygments_lexer": "ipython3",
   "version": "3.8.2"
  }
 },
 "nbformat": 4,
 "nbformat_minor": 4
}
