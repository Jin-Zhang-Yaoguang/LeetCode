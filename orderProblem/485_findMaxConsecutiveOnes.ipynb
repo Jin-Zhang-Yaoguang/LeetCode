{
 "cells": [
  {
   "cell_type": "markdown",
   "metadata": {},
   "source": [
    "### 1 题目"
   ]
  },
  {
   "cell_type": "markdown",
   "metadata": {},
   "source": [
    "LINK：https://leetcode-cn.com/problems/max-consecutive-ones/\n",
    "\n",
    "给定一个二进制数组 nums ， 计算其中最大连续 1 的个数。\n",
    "\n",
    "\n",
    "输入：nums = [1,1,0,1,1,1]\n",
    "输出：3\n",
    "解释：开头的两位和最后的三位都是连续 1 ，所以最大连续 1 的个数是 3."
   ]
  },
  {
   "cell_type": "markdown",
   "metadata": {},
   "source": [
    "### 2 分析"
   ]
  },
  {
   "cell_type": "markdown",
   "metadata": {},
   "source": [
    "解题思路1：双指针\n",
    "- 创建两个指针，slow和i. slow表示当前最近的0的索引，i表示当前遍历结果。res表示结果。\n",
    "- 为了方便解题，左右增加0，这样可以从0开始遍历，不需要解决特殊情况。\n",
    "\n",
    "解题思路2：滑动窗口\n",
    "- 保存最后一个0的位置，默认为0\n",
    "- 遍历过程中不断更新res\n",
    "- 滑动过程中浪费太多处理时间，改进位置需要在0的位置进行处理即可。"
   ]
  },
  {
   "cell_type": "code",
   "execution_count": 3,
   "metadata": {},
   "outputs": [
    {
     "name": "stdout",
     "output_type": "stream",
     "text": [
      "CPU times: user 4 µs, sys: 0 ns, total: 4 µs\n",
      "Wall time: 7.87 µs\n"
     ]
    },
    {
     "data": {
      "text/plain": [
       "3"
      ]
     },
     "execution_count": 3,
     "metadata": {},
     "output_type": "execute_result"
    }
   ],
   "source": [
    "%time\n",
    "nums = [1,1,0,1,1,1]\n",
    "\n",
    "res = 0\n",
    "slow = 0\n",
    "# 左右个加上元素0\n",
    "nums = [0]+nums+[0]\n",
    "# 双指针一次遍历\n",
    "for i in range(len(nums)):\n",
    "    if nums[i] == 0:\n",
    "        res = max(res,i-slow-1)\n",
    "        slow = i\n",
    "        \n",
    "res"
   ]
  },
  {
   "cell_type": "code",
   "execution_count": 5,
   "metadata": {},
   "outputs": [
    {
     "data": {
      "text/plain": [
       "3"
      ]
     },
     "execution_count": 5,
     "metadata": {},
     "output_type": "execute_result"
    }
   ],
   "source": [
    "nums = [1,1,0,1,1,1]\n",
    "\n",
    "res,index = 0, -1\n",
    "nums = nums + [0]\n",
    "for i, num in enumerate(nums):\n",
    "    if num == 0:\n",
    "        res = max(res, i-index-1)\n",
    "        index = i\n",
    "res\n"
   ]
  },
  {
   "cell_type": "markdown",
   "metadata": {},
   "source": [
    "### 3 提交内容"
   ]
  },
  {
   "cell_type": "markdown",
   "metadata": {},
   "source": [
    "时间复杂度：$O(n)$。\n",
    "\n",
    "此题目只需要在0的位置处理即可，即形成不重叠的滑动窗口。"
   ]
  },
  {
   "cell_type": "code",
   "execution_count": null,
   "metadata": {},
   "outputs": [],
   "source": [
    "class Solution:\n",
    "    def findMaxConsecutiveOnes(self, nums: List[int]) -> int:\n",
    "        res = 0\n",
    "        slow = 0\n",
    "        # 左右个加上元素0\n",
    "        nums = [0]+nums+[0]\n",
    "        # 双指针一次遍历\n",
    "        for i in range(len(nums)):\n",
    "            if nums[i] == 0:\n",
    "                res = max(res,i-slow-1)\n",
    "                slow = i\n",
    "        return res"
   ]
  }
 ],
 "metadata": {
  "kernelspec": {
   "display_name": "Python 3",
   "language": "python",
   "name": "python3"
  },
  "language_info": {
   "codemirror_mode": {
    "name": "ipython",
    "version": 3
   },
   "file_extension": ".py",
   "mimetype": "text/x-python",
   "name": "python",
   "nbconvert_exporter": "python",
   "pygments_lexer": "ipython3",
   "version": "3.8.2"
  }
 },
 "nbformat": 4,
 "nbformat_minor": 4
}
