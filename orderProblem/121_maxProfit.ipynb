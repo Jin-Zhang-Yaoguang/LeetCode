{
 "cells": [
  {
   "cell_type": "markdown",
   "metadata": {},
   "source": [
    "### 1 题目"
   ]
  },
  {
   "cell_type": "markdown",
   "metadata": {},
   "source": [
    "LINK：https://leetcode-cn.com/problems/best-time-to-buy-and-sell-stock/\n",
    "\n",
    "给定一个数组 prices ，它的第 i 个元素 prices[i] 表示一支给定股票第 i 天的价格。你只能选择 某一天 买入这只股票，并选择在 未来的某一个不同的日子 卖出该股票。设计一个算法来计算你所能获取的最大利润。返回你可以从这笔交易中获取的最大利润。如果你不能获取任何利润，返回 0 。\n",
    "\n",
    "\n",
    "输入：[7,1,5,3,6,4]\n",
    "\n",
    "输出：5\n",
    "\n",
    "解释：在第 2 天（股票价格 = 1）的时候买入，在第 5 天（股票价格 = 6）的时候卖出，最大利润 = 6-1 = 5 。\n",
    "     注意利润不能是 7-1 = 6, 因为卖出价格需要大于买入价格；同时，你不能在买入前卖出股票。"
   ]
  },
  {
   "cell_type": "markdown",
   "metadata": {},
   "source": [
    "### 2 分析"
   ]
  },
  {
   "cell_type": "markdown",
   "metadata": {},
   "source": [
    "解题思路1：max min存储当前遍历的最大值和最小值，max_profit存储当前可行组\n",
    "- max min初始化-1 -1，max_profit初始化为0\n",
    "- 可行组：当max和min均不为-1\n",
    "- 遍历过程中，新增数字大于max则更新max，大于min小于max不更新，小于min则更新min，并将可行组的最大利润更新 max_profit"
   ]
  },
  {
   "cell_type": "code",
   "execution_count": 70,
   "metadata": {},
   "outputs": [
    {
     "name": "stdout",
     "output_type": "stream",
     "text": [
      "CPU times: user 3 µs, sys: 0 ns, total: 3 µs\n",
      "Wall time: 7.87 µs\n",
      "-1 -1 0\n",
      "2 2 0\n",
      "2 9 0\n",
      "1 1 7\n",
      "1 5 7\n",
      "1 5 7\n",
      "1 6 7\n"
     ]
    }
   ],
   "source": [
    "%time\n",
    "prices = [2,9,1,5,3,6,4]\n",
    "\n",
    "max, min, max_profit = -1, -1, 0\n",
    "\n",
    "for i in range(len(prices)):\n",
    "    print(min, max, max_profit)\n",
    "    if i == 0:\n",
    "        max, min = prices[i], prices[i]\n",
    "    if prices[i] > max:\n",
    "        max = prices[i]\n",
    "    if prices[i] < min:\n",
    "        max_profit = max_profit < (max-min) and (max-min) or max_profit\n",
    "        max, min = prices[i],prices[i]\n",
    "max_profit = max_profit < (max-min) and (max-min) or max_profit"
   ]
  },
  {
   "cell_type": "code",
   "execution_count": 88,
   "metadata": {},
   "outputs": [
    {
     "name": "stdout",
     "output_type": "stream",
     "text": [
      "2 2 0\n",
      "2 1 0\n",
      "1 2 0\n",
      "1 1 1\n",
      "1 0 1\n",
      "0 1 1\n",
      "0 2 1\n"
     ]
    },
    {
     "data": {
      "text/plain": [
       "2"
      ]
     },
     "execution_count": 88,
     "metadata": {},
     "output_type": "execute_result"
    }
   ],
   "source": [
    "prices = [2,1,2,1,0,1,2]\n",
    "\n",
    "min_price,max_profit = prices[0],0\n",
    "for idx, price in enumerate(prices):\n",
    "    print(min_price, price, max_profit)\n",
    "    min_price = int((min_price < price) and str(min_price) or str(price))\n",
    "    max_profit = int(max_profit > price - min_price and str(max_profit) or str(price - min_price))\n",
    "\n",
    "max_profit"
   ]
  },
  {
   "cell_type": "markdown",
   "metadata": {},
   "source": [
    "### 3 提交内容"
   ]
  },
  {
   "cell_type": "code",
   "execution_count": null,
   "metadata": {},
   "outputs": [],
   "source": [
    "时间复杂度：$O(n)$。\n",
    "\n",
    "初次提交时间并不好，可以使用"
   ]
  },
  {
   "cell_type": "code",
   "execution_count": null,
   "metadata": {},
   "outputs": [],
   "source": [
    "class Solution:\n",
    "    def maxProfit(self, prices: List[int]) -> int:\n",
    "        max, min, max_profit = -1, -1, 0\n",
    "        \n",
    "        for i in range(len(prices)):\n",
    "            print(min, max, max_profit)\n",
    "            if i == 0:\n",
    "                max, min = prices[i], prices[i]\n",
    "            if prices[i] > max:\n",
    "                max = prices[i]\n",
    "            if prices[i] < min:\n",
    "                max_profit = max_profit < (max-min) and (max-min) or max_profit\n",
    "                max, min = prices[i],prices[i]\n",
    "        max_profit = max_profit < (max-min) and (max-min) or max_profit\n",
    "        return max_profit"
   ]
  },
  {
   "cell_type": "markdown",
   "metadata": {},
   "source": [
    "此版本针对上述思路进行优化\n",
    "- 无需全部展示max, min, max_profit. 就像判断数据中最大最小之差是，只需保留差值即可，此题目保留当前最小值和最大利润。\n",
    "- 解题核心：从左到右寻找最小价格，计算当前价格与最小价格的差值即为最小利润。\n",
    "- 可以使用A and B or C 的逻辑来改写单行if-ELSE，但要注意B不能取int0\n",
    "- 经测试：使用单行if-else的平均时间为120ms左右。"
   ]
  },
  {
   "cell_type": "code",
   "execution_count": null,
   "metadata": {},
   "outputs": [],
   "source": [
    "class Solution:\n",
    "    def maxProfit(self, prices: List[int]) -> int:\n",
    "        min_price,max_profit = prices[0],0\n",
    "        for idx, price in enumerate(prices):\n",
    "            min_price = min_price if min_price < price else price\n",
    "            max_profit = max_profit if max_profit > price - min_price else price - min_price\n",
    "        \n",
    "        return max_profit"
   ]
  },
  {
   "cell_type": "code",
   "execution_count": null,
   "metadata": {},
   "outputs": [],
   "source": [
    "class Solution:\n",
    "    def maxProfit(self, prices: List[int]) -> int:\n",
    "        min_price,max_profit = prices[0],0\n",
    "        for idx, price in enumerate(prices):\n",
    "            min_price = int((min_price < price) and str(min_price) or str(price))\n",
    "            max_profit = int(max_profit > price - min_price and str(max_profit) or str(price - min_price))\n",
    "\n",
    "        \n",
    "        return max_profit"
   ]
  }
 ],
 "metadata": {
  "kernelspec": {
   "display_name": "Python 3",
   "language": "python",
   "name": "python3"
  },
  "language_info": {
   "codemirror_mode": {
    "name": "ipython",
    "version": 3
   },
   "file_extension": ".py",
   "mimetype": "text/x-python",
   "name": "python",
   "nbconvert_exporter": "python",
   "pygments_lexer": "ipython3",
   "version": "3.8.2"
  }
 },
 "nbformat": 4,
 "nbformat_minor": 4
}
